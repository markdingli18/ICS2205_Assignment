{
 "cells": [
  {
   "cell_type": "markdown",
   "metadata": {},
   "source": [
    "### Details\n",
    "\n",
    "This document contains the details of Task 2 for ICS2205. The task will be marked out of 100%, however it is equivalent to 10% of the total mark for this unit. <br> \n",
    "While discussions between individual students are considered as healthy, the final deliverable needs to be that produced by you and **not plagiarised** in any way. The **deadline** to submit this task is **12:00pm Monday 28th November 2022**.<br>\n",
    "You need to compile your answer to the task described below in this same notebook. Then upload it, together with a duely filled plagiarism form, onto the appropriate space on the VLE. Deliverables submitted late will be penalised or may not be accepted."
   ]
  },
  {
   "cell_type": "markdown",
   "metadata": {},
   "source": [
    "### Interfacing NetworkX with Neo4j"
   ]
  },
  {
   "cell_type": "markdown",
   "metadata": {},
   "source": [
    "Neo4j is an important graph platform and is more than a persistant storage for graph data. It provides graph algorithms that are scaleable and production-ready. In this task you will need to combine Neo4j with NetworkX. To do this you need to use the **nxneo4j** Python library.\n"
   ]
  },
  {
   "cell_type": "markdown",
   "metadata": {},
   "source": [
    "Install the latest version of nxneo4j as follows:"
   ]
  },
  {
   "cell_type": "code",
   "execution_count": 1,
   "metadata": {},
   "outputs": [
    {
     "name": "stdout",
     "output_type": "stream",
     "text": [
      "Requirement already satisfied: networkx-neo4j in c:\\users\\markd\\anaconda3\\lib\\site-packages (0.0.3)\n",
      "Requirement already satisfied: neo4j-driver in c:\\users\\markd\\anaconda3\\lib\\site-packages (from networkx-neo4j) (5.2.0)\n",
      "Requirement already satisfied: pytz in c:\\users\\markd\\anaconda3\\lib\\site-packages (from neo4j-driver->networkx-neo4j) (2021.3)\n",
      "Note: you may need to restart the kernel to use updated packages.\n"
     ]
    }
   ],
   "source": [
    "pip install networkx-neo4j"
   ]
  },
  {
   "cell_type": "code",
   "execution_count": 2,
   "metadata": {},
   "outputs": [
    {
     "name": "stdout",
     "output_type": "stream",
     "text": [
      "Collecting git+https://github.com/ybaktir/networkx-neo4j\n",
      "  Cloning https://github.com/ybaktir/networkx-neo4j to c:\\users\\markd\\appdata\\local\\temp\\pip-req-build-8w6w0ka0\n",
      "  Resolved https://github.com/ybaktir/networkx-neo4j to commit 97dc9563bf992ea9714cbdb99cb9e6a41c7cce65\n",
      "Requirement already satisfied: neo4j-driver in c:\\users\\markd\\anaconda3\\lib\\site-packages (from networkx-neo4j==0.0.3) (5.2.0)\n",
      "Requirement already satisfied: pytz in c:\\users\\markd\\anaconda3\\lib\\site-packages (from neo4j-driver->networkx-neo4j==0.0.3) (2021.3)\n",
      "Note: you may need to restart the kernel to use updated packages.\n"
     ]
    },
    {
     "name": "stderr",
     "output_type": "stream",
     "text": [
      "  Running command git clone -q https://github.com/ybaktir/networkx-neo4j 'C:\\Users\\markd\\AppData\\Local\\Temp\\pip-req-build-8w6w0ka0'\n"
     ]
    }
   ],
   "source": [
    "pip install git+https://github.com/ybaktir/networkx-neo4j"
   ]
  },
  {
   "cell_type": "markdown",
   "metadata": {},
   "source": [
    "#### Connect to Neo4j"
   ]
  },
  {
   "cell_type": "code",
   "execution_count": 3,
   "metadata": {},
   "outputs": [],
   "source": [
    "from neo4j import GraphDatabase, basic_auth"
   ]
  },
  {
   "cell_type": "markdown",
   "metadata": {},
   "source": [
    "For this task you can use a [Neo4j blank sandbox](https://neo4j.com/sandbox/). Once the instance has started check the connection details tab to find the **Bolt URL** and the **password**. By default the user name is **neo4j**. Update the code below with the details to connect to Neo4j sandbox. You can also use the Neo4j desktop version."
   ]
  },
  {
   "cell_type": "code",
   "execution_count": 4,
   "metadata": {},
   "outputs": [],
   "source": [
    "graph = GraphDatabase.driver(\"bolt://localhost:7687\", auth=basic_auth(\"neo4j\",\"79598856\"))"
   ]
  },
  {
   "cell_type": "markdown",
   "metadata": {},
   "source": [
    "Access the Neo4j sandbox and inspect the database by openning it with the browser"
   ]
  },
  {
   "cell_type": "code",
   "execution_count": 5,
   "metadata": {},
   "outputs": [],
   "source": [
    "import nxneo4j as nx #using nxneo4j"
   ]
  },
  {
   "cell_type": "code",
   "execution_count": 6,
   "metadata": {},
   "outputs": [],
   "source": [
    "G = nx.Graph(graph) #create the empty graph"
   ]
  },
  {
   "cell_type": "markdown",
   "metadata": {},
   "source": [
    "#### Analyse the Game of Thrones dataset"
   ]
  },
  {
   "cell_type": "markdown",
   "metadata": {},
   "source": [
    "nxneo4j contains a number of built-in datasets. One of these datasets is build around the popular TV series of Game of Thrones. The dataset is based around that created by [Andrew Beveridge](https://networkofthrones.wordpress.com/) and contains the interactions between the characters of the popular TV series. The nodes are labelled \"Character\" while the relationships include \"INTERACTS1\", \"INTERACTS2\", \"INTERACTS3\" and \"INTERACTS45\" which represent the interactions between the characters across the various books (1 to 5)."
   ]
  },
  {
   "cell_type": "markdown",
   "metadata": {},
   "source": [
    "Load the dataset and draw the graph using nxneo4j **(5 marks)**"
   ]
  },
  {
   "cell_type": "code",
   "execution_count": 11,
   "metadata": {},
   "outputs": [
    {
     "data": {
      "text/html": [
       "\n",
       "        <iframe\n",
       "            width=\"100%\"\n",
       "            height=\"500\"\n",
       "            src=\"vis.html\"\n",
       "            frameborder=\"0\"\n",
       "            allowfullscreen\n",
       "            \n",
       "        ></iframe>\n",
       "        "
      ],
      "text/plain": [
       "<IPython.lib.display.IFrame at 0x19b82efe400>"
      ]
     },
     "execution_count": 11,
     "metadata": {},
     "output_type": "execute_result"
    }
   ],
   "source": [
    "#add code here\n",
    "\n",
    "# Loading the Data set\n",
    "# Delete previous graph\n",
    "G.delete_all()\n",
    "# Gets and Loads all the nodes\n",
    "G.load_got()\n",
    "# Choosing node label names\n",
    "G.identifier_property = 'name'\n",
    "# Choosing relationship type between nodes\n",
    "G.relationship_type = '*'\n",
    "# Choosing type of node\n",
    "G.node_label = 'Character'\n",
    "# Draws the graph\n",
    "nx.draw(G)"
   ]
  },
  {
   "cell_type": "markdown",
   "metadata": {},
   "source": [
    "Find how many nodes the graph contains **(5 marks)**"
   ]
  },
  {
   "cell_type": "code",
   "execution_count": 8,
   "metadata": {},
   "outputs": [
    {
     "data": {
      "text/plain": [
       "796"
      ]
     },
     "execution_count": 8,
     "metadata": {},
     "output_type": "execute_result"
    }
   ],
   "source": [
    "#add code here\n",
    "\n",
    "# Finds the number of nodes\n",
    "len(G)"
   ]
  },
  {
   "cell_type": "markdown",
   "metadata": {},
   "source": [
    "Compute PageRank, sort the results and print out the first 5 results **(20 marks)**"
   ]
  },
  {
   "cell_type": "code",
   "execution_count": 13,
   "metadata": {
    "scrolled": true
   },
   "outputs": [
    {
     "name": "stdout",
     "output_type": "stream",
     "text": [
      "Jon-Snow 17.596878939369677\n",
      "Tyrion-Lannister 17.56810234895046\n",
      "Jaime-Lannister 13.92547230647357\n",
      "Cersei-Lannister 13.402357010904186\n",
      "Daenerys-Targaryen 12.499194895817286\n"
     ]
    }
   ],
   "source": [
    "#add code here\n",
    "\n",
    "# Calculating the pagerank\n",
    "response = nx.pagerank(G)\n",
    "\n",
    "# Getting the pagerank for the first 5 results\n",
    "sorted_pagerank = sorted(response.items(), key=lambda x: x[1], reverse=True)\n",
    "for character, score in sorted_pagerank[:5]:\n",
    "    # Print results\n",
    "    print(character, score)"
   ]
  },
  {
   "cell_type": "markdown",
   "metadata": {},
   "source": [
    "Compute Betweenness Centrality. Sort the results and print out the first 5 results. **(20 marks)**"
   ]
  },
  {
   "cell_type": "code",
   "execution_count": 14,
   "metadata": {},
   "outputs": [
    {
     "name": "stdout",
     "output_type": "stream",
     "text": [
      "Jon-Snow 65395.26787165435\n",
      "Tyrion-Lannister 50202.17398521848\n",
      "Daenerys-Targaryen 39636.777186621155\n",
      "Stannis-Baratheon 35984.21182863313\n",
      "Theon-Greyjoy 35436.852685191036\n"
     ]
    }
   ],
   "source": [
    "#add code here\n",
    "\n",
    "# Calculating the Betweenness Centrality\n",
    "response = nx.betweenness_centrality(G)\n",
    "\n",
    "# Getting the betweenness Centrality for the first 5 results\n",
    "sorted_bw = sorted(response.items(), key=lambda x: x[1], reverse=True)\n",
    "for character, score in sorted_bw[:5]:\n",
    "    # Print results\n",
    "    print(character, score)"
   ]
  },
  {
   "cell_type": "markdown",
   "metadata": {},
   "source": [
    "Now switch to the Neo4j sandbox (or your desktop version) and access the database through the browser. Query directly the database using Cypher to find out the following:\n",
    "\n",
    "1. Count the number of edges. **(10 marks)**\n",
    "2. Display the graph based on the relationships of the character with the highest PageRank (from above). **(20 marks)**\n",
    "3. Degree centrality is simply the number of connections that a node has in the network. In this context the degree centrality of a character is simply the number of other characters that interacted with it. Compute the degree centrality by considering **only** the **INTERACTIONS2** relation. **(20 marks)**"
   ]
  },
  {
   "cell_type": "markdown",
   "metadata": {},
   "source": [
    "**Add the Cypher queries below:**"
   ]
  },
  {
   "cell_type": "markdown",
   "metadata": {},
   "source": [
    "Cypher query (1)"
   ]
  },
  {
   "cell_type": "markdown",
   "metadata": {},
   "source": [
    "MATCH (n)-[r]->() RETURN COUNT(r)"
   ]
  },
  {
   "cell_type": "markdown",
   "metadata": {},
   "source": [
    "Cypher query (2)"
   ]
  },
  {
   "cell_type": "markdown",
   "metadata": {},
   "source": [
    "CALL gds.graph.create('getGraph', 'Character', [\"INTERACTS1\", \"INTERACTS2\", \"INTERACTS3\", \"INTERACTS45\"])<br>\n",
    "\n",
    "CALL gds.pageRank.stream('getGraph')<br>\n",
    "YIELD nodeId, score<br>\n",
    "WITH gds.util.asNode(nodeId).name AS name, score<br>\n",
    "WITH apoc.agg.maxItems(name, score) as maxData<br>\n",
    "MATCH var = (graphJon:Character {name: maxData.items[0]})<--(r)<br>\n",
    "RETURN var<br>"
   ]
  },
  {
   "cell_type": "markdown",
   "metadata": {},
   "source": [
    "Cypher query (3)"
   ]
  },
  {
   "cell_type": "markdown",
   "metadata": {},
   "source": [
    "CALL gds.degree.stream({<br>\n",
    "        nodeProjection: \"Character\",<br>\n",
    "        relationshipProjection: {<br>\n",
    "            relType: {<br>\n",
    "                type: \"INTERACTS2\",<br>\n",
    "                orientation: \"NATURAL\",<br>\n",
    "                properties: {}<br>\n",
    "                }<br>\n",
    "            }<br>\n",
    "        })<br>\n",
    "    YIELD nodeId, score<br>\n",
    "    RETURN gds.util.asNode(nodeId).name AS name, score<br>\n",
    "    ORDER BY score DESC<br>"
   ]
  },
  {
   "cell_type": "markdown",
   "metadata": {},
   "source": [
    "#### References"
   ]
  },
  {
   "cell_type": "markdown",
   "metadata": {},
   "source": [
    "1. Further information to how to use Neo4j from Python: https://neo4j.com/developer/python/"
   ]
  }
 ],
 "metadata": {
  "kernelspec": {
   "display_name": "Python 3 (ipykernel)",
   "language": "python",
   "name": "python3"
  },
  "language_info": {
   "codemirror_mode": {
    "name": "ipython",
    "version": 3
   },
   "file_extension": ".py",
   "mimetype": "text/x-python",
   "name": "python",
   "nbconvert_exporter": "python",
   "pygments_lexer": "ipython3",
   "version": "3.9.12"
  }
 },
 "nbformat": 4,
 "nbformat_minor": 4
}
